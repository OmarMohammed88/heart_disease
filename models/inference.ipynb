{
  "nbformat": 4,
  "nbformat_minor": 0,
  "metadata": {
    "colab": {
      "name": "inference.ipynb",
      "provenance": [],
      "collapsed_sections": [],
      "include_colab_link": true
    },
    "kernelspec": {
      "name": "python3",
      "display_name": "Python 3"
    },
    "language_info": {
      "name": "python"
    },
    "accelerator": "GPU"
  },
  "cells": [
    {
      "cell_type": "markdown",
      "metadata": {
        "id": "view-in-github",
        "colab_type": "text"
      },
      "source": [
        "<a href=\"https://colab.research.google.com/github/OmarMohammed88/heart_disease/blob/main/models/inference.ipynb\" target=\"_parent\"><img src=\"https://colab.research.google.com/assets/colab-badge.svg\" alt=\"Open In Colab\"/></a>"
      ]
    },
    {
      "cell_type": "code",
      "source": [
        "!pip install -U gdown"
      ],
      "metadata": {
        "id": "ID9eHfv8F924",
        "outputId": "59043ac9-c0bc-4b34-8fc3-6ebc2ed6789d",
        "colab": {
          "base_uri": "https://localhost:8080/"
        }
      },
      "execution_count": 15,
      "outputs": [
        {
          "output_type": "stream",
          "name": "stdout",
          "text": [
            "Requirement already satisfied: gdown in /usr/local/lib/python3.7/dist-packages (3.12.2)\n",
            "Collecting gdown\n",
            "  Downloading gdown-4.4.0.tar.gz (14 kB)\n",
            "  Installing build dependencies ... \u001b[?25l\u001b[?25hcanceled\n",
            "\u001b[31mERROR: Operation cancelled by user\u001b[0m\n"
          ]
        }
      ]
    },
    {
      "cell_type": "code",
      "source": [
        "#download folder from this link\n",
        "!gdown --id '1--u4JDjwqNvGNebKG_PG-qzKJQV83gPd' \n",
        "!gdown --id '1cNv8-m22M_I-XYeIe0GHWnqGp1x32BfR' \n",
        "!gdown --id '1wc0_0Ydu9UEj-8T2r8PfT1fbXU-otZcN' \n",
        "!gdown --id '1VA2x20iKDo_p079HL1G-K8h5OFb04FaV' "
      ],
      "metadata": {
        "colab": {
          "base_uri": "https://localhost:8080/"
        },
        "id": "V5XRxsQzGTl-",
        "outputId": "656043ca-541a-433b-a5f9-170843b0df16"
      },
      "execution_count": 16,
      "outputs": [
        {
          "output_type": "stream",
          "name": "stdout",
          "text": [
            "Traceback (most recent call last):\n",
            "  File \"/usr/local/bin/gdown\", line 8, in <module>\n",
            "    sys.exit(main())\n",
            "  File \"/usr/local/lib/python3.7/dist-packages/gdown/cli.py\", line 105, in main\n",
            "    use_cookies=not args.no_cookies,\n",
            "  File \"/usr/local/lib/python3.7/dist-packages/gdown/download.py\", line 110, in download\n",
            "    res = sess.get(url, stream=True)\n",
            "  File \"/usr/local/lib/python3.7/dist-packages/requests/sessions.py\", line 542, in get\n",
            "    return self.request('GET', url, **kwargs)\n",
            "  File \"/usr/local/lib/python3.7/dist-packages/requests/sessions.py\", line 515, in request\n",
            "    prep = self.prepare_request(req)\n",
            "  File \"/usr/local/lib/python3.7/dist-packages/requests/sessions.py\", line 453, in prepare_request\n",
            "    hooks=merge_hooks(request.hooks, self.hooks),\n",
            "  File \"/usr/local/lib/python3.7/dist-packages/requests/models.py\", line 318, in prepare\n",
            "    self.prepare_url(url, params)\n",
            "  File \"/usr/local/lib/python3.7/dist-packages/requests/models.py\", line 392, in prepare_url\n",
            "    raise MissingSchema(error)\n",
            "requests.exceptions.MissingSchema: Invalid URL '': No scheme supplied. Perhaps you meant http://?\n",
            "Downloading...\n",
            "From: https://drive.google.com/uc?id=1cNv8-m22M_I-XYeIe0GHWnqGp1x32BfR\n",
            "To: /content/test_flair.txt\n",
            "100% 2.38M/2.38M [00:00<00:00, 230MB/s]\n",
            "Downloading...\n",
            "From: https://drive.google.com/uc?id=1wc0_0Ydu9UEj-8T2r8PfT1fbXU-otZcN\n",
            "To: /content/train_flair.txt\n",
            "100% 3.29M/3.29M [00:00<00:00, 282MB/s]\n",
            "Downloading...\n",
            "From: https://drive.google.com/uc?id=1VA2x20iKDo_p079HL1G-K8h5OFb04FaV\n",
            "To: /content/dev_flair.txt\n",
            "100% 329k/329k [00:00<00:00, 90.4MB/s]\n"
          ]
        }
      ]
    },
    {
      "cell_type": "code",
      "source": [
        "!pip install git+https://github.com/flairNLP/flair.git\n",
        "\n",
        "!pip install sentence-transformers"
      ],
      "metadata": {
        "id": "a3EFe2t3cRfd"
      },
      "execution_count": null,
      "outputs": []
    },
    {
      "cell_type": "code",
      "source": [
        "from flair.embeddings import TokenEmbeddings, WordEmbeddings, StackedEmbeddings, FlairEmbeddings, BertEmbeddings, CharacterEmbeddings, DocumentRNNEmbeddings\n",
        "from flair.models import TextClassifier\n",
        "from flair.trainers import ModelTrainer\n",
        "from typing import List\n",
        "import pandas as pd\n",
        "import os\n",
        "import random\n",
        "import xml.etree.cElementTree as ET\n",
        "from sklearn.preprocessing import LabelEncoder\n",
        "import nltk.data\n",
        "from nltk import sent_tokenize\n",
        "# from flair.data_fetcher import NLPTaskDataFetcher\n",
        "from pathlib import Path\n",
        "from flair.data import Corpus\n",
        "from flair.datasets import ClassificationCorpus\n",
        "from flair.embeddings import SentenceTransformerDocumentEmbeddings"
      ],
      "metadata": {
        "id": "zH_qMdCqgGfH"
      },
      "execution_count": 76,
      "outputs": []
    },
    {
      "cell_type": "code",
      "source": [
        "data_folder = Path('/content/')\n",
        "\n",
        "# load corpus containing training, test, and dev data\n",
        "corpus= ClassificationCorpus(data_folder,\n",
        "                                        test_file='test_flair.txt',\n",
        "                                          dev_file='dev_flair.txt',\n",
        "                                          train_file='train_flair.txt',\n",
        "                                        label_type='class')"
      ],
      "metadata": {
        "id": "ex2Z7gXPgWOb",
        "colab": {
          "base_uri": "https://localhost:8080/"
        },
        "outputId": "f5df9d86-65aa-4cc6-b01c-aae32bbc6fe9"
      },
      "execution_count": 77,
      "outputs": [
        {
          "output_type": "stream",
          "name": "stdout",
          "text": [
            "2022-04-14 22:27:33,086 Reading data from /content\n",
            "2022-04-14 22:27:33,088 Train: /content/train_flair.txt\n",
            "2022-04-14 22:27:33,091 Dev: /content/dev_flair.txt\n",
            "2022-04-14 22:27:33,092 Test: /content/test_flair.txt\n",
            "2022-04-14 22:27:33,890 Initialized corpus /content (label type name is 'class')\n"
          ]
        }
      ]
    },
    {
      "cell_type": "code",
      "source": [
        "label_dict = corpus.make_label_dictionary(label_type='class')\n"
      ],
      "metadata": {
        "colab": {
          "base_uri": "https://localhost:8080/"
        },
        "id": "0_9vhQvSBRud",
        "outputId": "15b59218-6bf1-4675-80e2-a407e0fe6615"
      },
      "execution_count": 78,
      "outputs": [
        {
          "output_type": "stream",
          "name": "stdout",
          "text": [
            "2022-04-14 22:27:34,974 Computing label dictionary. Progress:\n"
          ]
        },
        {
          "output_type": "stream",
          "name": "stderr",
          "text": [
            "59073it [00:11, 5186.47it/s]"
          ]
        },
        {
          "output_type": "stream",
          "name": "stdout",
          "text": [
            "2022-04-14 22:27:46,369 Dictionary created for label 'class' with 93 values: Other (seen 52799 times), hypertension.mention.during_dct (seen 378 times), smoker.unknown (seen 299 times), hypertension.high_bp.during_dct (seen 297 times), diabetes.mention.before_dct (seen 262 times), diabetes.mention.during_dct (seen 247 times), cad.event.before_dct (seen 221 times), medication.statin..before_dct (seen 210 times), medication.aspirin..after_dct (seen 209 times), medication.beta_blocker..before_dct (seen 186 times), cad.mention.after_dct (seen 170 times), medication.aspirin..before_dct (seen 165 times), medication.ace_inhibitor..after_dct (seen 158 times), diabetes.mention.after_dct (seen 157 times), medication.beta_blocker..during_dct (seen 156 times), smoker.never (seen 154 times), hyperlipidemia.mention.after_dct (seen 136 times), hypertension.mention.after_dct (seen 135 times), smoker.past (seen 133 times), medication.beta_blocker..after_dct (seen 131 times)\n"
          ]
        },
        {
          "output_type": "stream",
          "name": "stderr",
          "text": [
            "\n"
          ]
        }
      ]
    },
    {
      "cell_type": "code",
      "source": [
        "embedding_types = [\n",
        "     BertEmbeddings(),\n",
        "    CharacterEmbeddings(),\n",
        "]"
      ],
      "metadata": {
        "colab": {
          "base_uri": "https://localhost:8080/"
        },
        "id": "aYSdT-_eBgTj",
        "outputId": "81b93da9-6194-45bd-c944-df7c7a2062cf"
      },
      "execution_count": 79,
      "outputs": [
        {
          "output_type": "stream",
          "name": "stderr",
          "text": [
            "/usr/local/lib/python3.7/dist-packages/ipykernel_launcher.py:2: DeprecationWarning: Call to deprecated method __init__. (Use 'TransformerWordEmbeddings' for all transformer-based word embeddings) -- Deprecated since version 0.4.5.\n",
            "  \n",
            "Some weights of the model checkpoint at bert-base-uncased were not used when initializing BertModel: ['cls.seq_relationship.bias', 'cls.predictions.decoder.weight', 'cls.predictions.transform.LayerNorm.bias', 'cls.seq_relationship.weight', 'cls.predictions.transform.dense.weight', 'cls.predictions.transform.dense.bias', 'cls.predictions.bias', 'cls.predictions.transform.LayerNorm.weight']\n",
            "- This IS expected if you are initializing BertModel from the checkpoint of a model trained on another task or with another architecture (e.g. initializing a BertForSequenceClassification model from a BertForPreTraining model).\n",
            "- This IS NOT expected if you are initializing BertModel from the checkpoint of a model that you expect to be exactly identical (initializing a BertForSequenceClassification model from a BertForSequenceClassification model).\n"
          ]
        }
      ]
    },
    {
      "cell_type": "code",
      "source": [
        "document_embeddings = DocumentRNNEmbeddings(embedding_types,\n",
        "                                                                     hidden_size=512,\n",
        "                                                                     reproject_words=True,\n",
        "                                                                     reproject_words_dimension=256,\n",
        "                                                                     )"
      ],
      "metadata": {
        "id": "YVupzk-NDDen"
      },
      "execution_count": 80,
      "outputs": []
    },
    {
      "cell_type": "code",
      "source": [
        "from flair.models import TextClassifier\n",
        "\n",
        "classifier = TextClassifier(document_embeddings, label_dictionary=label_dict,label_type='class', multi_label=False)"
      ],
      "metadata": {
        "id": "DfT77C18DFe7"
      },
      "execution_count": 81,
      "outputs": []
    },
    {
      "cell_type": "code",
      "source": [
        "classifier = classifier.load(\"/content/best-model.pt\")"
      ],
      "metadata": {
        "id": "HQJbPPviDGTH",
        "outputId": "73d16a10-f4e9-4522-a525-4001b8ad4387",
        "colab": {
          "base_uri": "https://localhost:8080/"
        }
      },
      "execution_count": 82,
      "outputs": [
        {
          "output_type": "stream",
          "name": "stdout",
          "text": [
            "2022-04-14 22:27:56,345 loading file /content/best-model.pt\n"
          ]
        }
      ]
    },
    {
      "cell_type": "code",
      "source": [
        "trainer = ModelTrainer(classifier, corpus)"
      ],
      "metadata": {
        "id": "0EUEIL9LD2lt"
      },
      "execution_count": 83,
      "outputs": []
    },
    {
      "cell_type": "code",
      "source": [
        "final_test = trainer.final_test(\"/content/\",32,(\"micro avg\", \"f1-score\"))"
      ],
      "metadata": {
        "id": "sO6xGVdnDT1i",
        "outputId": "4ff4a525-c871-4242-d4d7-7f70e14ee4f4",
        "colab": {
          "base_uri": "https://localhost:8080/"
        }
      },
      "execution_count": 84,
      "outputs": [
        {
          "output_type": "stream",
          "name": "stdout",
          "text": [
            "2022-04-14 22:27:57,227 ----------------------------------------------------------------------------------------------------\n",
            "2022-04-14 22:27:57,234 loading file /content/best-model.pt\n"
          ]
        },
        {
          "output_type": "stream",
          "name": "stderr",
          "text": [
            "100%|██████████| 1343/1343 [03:04<00:00,  7.28it/s]\n"
          ]
        },
        {
          "output_type": "stream",
          "name": "stdout",
          "text": [
            "2022-04-14 22:31:02,667 Evaluating as a multi-label problem: False\n",
            "2022-04-14 22:31:02,968 0.9366\t0.9366\t0.9366\t0.9366\n",
            "2022-04-14 22:31:02,970 \n",
            "Results:\n",
            "- F-score (micro) 0.9366\n",
            "- F-score (macro) 0.2899\n",
            "- Accuracy 0.9366\n",
            "\n",
            "By class:\n",
            "                                                precision    recall  f1-score   support\n",
            "\n",
            "                                         Other     0.9752    0.9881    0.9816     38375\n",
            "               hypertension.mention.during_dct     0.7778    0.8558    0.8149       319\n",
            "                   diabetes.mention.during_dct     0.5261    0.5904    0.5564       188\n",
            "                   diabetes.mention.before_dct     0.5202    0.5124    0.5163       201\n",
            "               hypertension.high_bp.during_dct     0.8441    0.8920    0.8674       176\n",
            "                 medication.statin..before_dct     0.6222    0.7417    0.6767       151\n",
            "                 medication.aspirin..after_dct     0.7013    0.6750    0.6879       160\n",
            "                          cad.event.before_dct     0.5310    0.4813    0.5049       160\n",
            "                         cad.mention.after_dct     0.5025    0.9340    0.6535       106\n",
            "           medication.ace_inhibitor..after_dct     0.4944    0.7788    0.6048       113\n",
            "                hypertension.mention.after_dct     0.5342    0.6724    0.5954       116\n",
            "                                  smoker.never     0.8000    0.8649    0.8312       111\n",
            "                medication.aspirin..before_dct     0.6102    0.6429    0.6261       112\n",
            "           medication.beta_blocker..during_dct     0.5182    0.5481    0.5327       104\n",
            "                medication.insulin..before_dct     0.4918    0.6818    0.5714        88\n",
            "                                   smoker.past     0.8283    0.7455    0.7847       110\n",
            "                                smoker.unknown     0.1250    0.0051    0.0098       197\n",
            "              hyperlipidemia.mention.after_dct     0.7157    0.7526    0.7337        97\n",
            "            medication.beta_blocker..after_dct     0.4623    0.6203    0.5297        79\n",
            "           medication.beta_blocker..before_dct     0.4559    0.2793    0.3464       111\n",
            "                    diabetes.mention.after_dct     0.1899    0.1500    0.1676       100\n",
            "                medication.nitrate..during_dct     0.3333    0.7857    0.4681        42\n",
            "                  medication.statin..after_dct     0.6071    0.4198    0.4964        81\n",
            "              medication.metformin..during_dct     0.4625    0.6727    0.5481        55\n",
            "          medication.sulfonylureas..during_dct     0.5278    0.7037    0.6032        54\n",
            "                medication.insulin..during_dct     0.6042    0.4462    0.5133        65\n",
            "             hyperlipidemia.mention.before_dct     0.8438    0.3375    0.4821        80\n",
            "          medication.thienopyridine..after_dct     0.5085    0.5882    0.5455        51\n",
            "                      obese.mention.during_dct     0.6604    0.6731    0.6667        52\n",
            " medication.calcium_channel_blocker..after_dct     0.4194    0.6190    0.5000        42\n",
            "               medication.diuretic..before_dct     0.4762    0.7895    0.5941        38\n",
            "              medication.metformin..before_dct     0.6809    0.6038    0.6400        53\n",
            "                      obese.mention.before_dct     0.4655    0.6585    0.5455        41\n",
            "                                smoker.current     0.4211    0.6667    0.5161        36\n",
            "                 medication.statin..during_dct     0.7619    0.2500    0.3765        64\n",
            "          medication.ace_inhibitor..before_dct     0.5882    0.1613    0.2532        62\n",
            "                       diabetes.a1c.before_dct     0.7778    0.2373    0.3636        59\n",
            "                        cad.symptom.before_dct     0.2308    0.1395    0.1739        43\n",
            "          medication.sulfonylureas..before_dct     0.3125    0.2703    0.2899        37\n",
            "         medication.thienopyridine..before_dct     0.3571    0.3030    0.3279        33\n",
            "                    medication.arb..during_dct     0.4412    0.5769    0.5000        26\n",
            "                 medication.insulin..after_dct     0.2222    0.0426    0.0714        47\n",
            "medication.calcium_channel_blocker..during_dct     0.3043    0.2414    0.2692        29\n",
            "          medication.ace_inhibitor..during_dct     0.2500    0.2222    0.2353        27\n",
            "medication.calcium_channel_blocker..before_dct     0.7778    0.1750    0.2857        40\n",
            "                        cad.mention.during_dct     0.0000    0.0000    0.0000        46\n",
            "                medication.aspirin..during_dct     0.2353    0.1333    0.1702        30\n",
            "               hypertension.mention.before_dct     0.0000    0.0000    0.0000        43\n",
            "                medication.nitrate..before_dct     0.2500    0.1429    0.1818        28\n",
            "                 medication.nitrate..after_dct     0.3000    0.0909    0.1395        33\n",
            "                        cad.mention.before_dct     0.2222    0.0645    0.1000        31\n",
            "                     medication.arb..after_dct     0.5556    0.5882    0.5714        17\n",
            "             hyperlipidemia.mention.during_dct     0.2727    0.1304    0.1765        23\n",
            "               medication.metformin..after_dct     0.0000    0.0000    0.0000        25\n",
            "                medication.diuretic..after_dct     0.5000    0.0385    0.0714        26\n",
            "                    medication.arb..before_dct     0.7143    0.2381    0.3571        21\n",
            "                       obese.mention.after_dct     0.1538    0.1429    0.1481        14\n",
            "       medication.thiazolidinedione..after_dct     0.7692    0.8333    0.8000        12\n",
            "                           cad.test.before_dct     0.0000    0.0000    0.0000        24\n",
            "            hyperlipidemia.high_ldl.before_dct     0.3333    0.0476    0.0833        21\n",
            "                medication.fibrate..during_dct     1.0000    0.1579    0.2727        19\n",
            "                        cad.symptom.during_dct     0.0000    0.0000    0.0000        21\n",
            "                   diabetes.glucose.before_dct     0.0000    0.0000    0.0000        18\n",
            "                          obese.bmi.during_dct     0.5000    0.3750    0.4286         8\n",
            "                medication.fibrate..before_dct     1.0000    0.3000    0.4615        10\n",
            "                           family_hist.present     0.0000    0.0000    0.0000        13\n",
            "                          cad.event.during_dct     0.0000    0.0000    0.0000        13\n",
            "              medication.ezetimibe..during_dct     0.7500    0.3750    0.5000         8\n",
            "                   diabetes.glucose.during_dct     0.0000    0.0000    0.0000        11\n",
            "               hypertension.high_bp.before_dct     0.0000    0.0000    0.0000        10\n",
            "               medication.diuretic..during_dct     0.0000    0.0000    0.0000         8\n",
            "                       diabetes.a1c.during_dct     0.0000    0.0000    0.0000         5\n",
            "         medication.thienopyridine..during_dct     0.0000    0.0000    0.0000        11\n",
            "                                   smoker.ever     0.0000    0.0000    0.0000         3\n",
            "          hyperlipidemia.high_chol..before_dct     0.0000    0.0000    0.0000         6\n",
            "           medication.sulfonylureas..after_dct     0.0000    0.0000    0.0000         5\n",
            "            medication.arb.diuretic.before_dct     0.0000    0.0000    0.0000         5\n",
            "      medication.thiazolidinedione..during_dct     1.0000    0.6667    0.8000         3\n",
            "                  medication.niacin..after_dct     0.0000    0.0000    0.0000         5\n",
            "               medication.ezetimibe..after_dct     0.0000    0.0000    0.0000         4\n",
            "      medication.thiazolidinedione..before_dct     0.0000    0.0000    0.0000         4\n",
            " medication.sulfonylureas.metformin.during_dct     0.0000    0.0000    0.0000         4\n",
            "            hyperlipidemia.high_ldl.during_dct     0.0000    0.0000    0.0000         3\n",
            "                 medication.niacin..during_dct     0.0000    0.0000    0.0000         3\n",
            "  medication.ace_inhibitor.diuretic.during_dct     0.0000    0.0000    0.0000         3\n",
            "   medication.ace_inhibitor.diuretic.after_dct     0.0000    0.0000    0.0000         3\n",
            "                 medication.fibrate..after_dct     0.0000    0.0000    0.0000         2\n",
            "            medication.arb.diuretic.during_dct     0.0000    0.0000    0.0000         2\n",
            "                 medication.niacin..before_dct     0.0000    0.0000    0.0000         2\n",
            "        medication.dpp4_inhibitors..before_dct     0.0000    0.0000    0.0000         2\n",
            "                         cad.symptom.after_dct     0.0000    0.0000    0.0000         1\n",
            "                           cad.test.during_dct     0.0000    0.0000    0.0000         1\n",
            "  medication.sulfonylureas.metformin.after_dct     0.0000    0.0000    0.0000         1\n",
            "          hyperlipidemia.high_chol..during_dct     0.0000    0.0000    0.0000         1\n",
            "                           obese.bmi.after_dct     0.0000    0.0000    0.0000         1\n",
            "        medication.dpp4_inhibitors..during_dct     0.0000    0.0000    0.0000         1\n",
            "  medication.ace_inhibitor.diuretic.before_dct     0.0000    0.0000    0.0000         1\n",
            "\n",
            "                                      accuracy                         0.9366     42946\n",
            "                                     macro avg     0.3383    0.2920    0.2899     42946\n",
            "                                  weighted avg     0.9265    0.9366    0.9290     42946\n",
            "\n",
            "2022-04-14 22:31:02,974 ----------------------------------------------------------------------------------------------------\n"
          ]
        }
      ]
    },
    {
      "cell_type": "markdown",
      "source": [
        "**Classification Report after Normalizing the Classes**\n",
        "\n"
      ],
      "metadata": {
        "id": "9R4VUWpPM-dm"
      }
    },
    {
      "cell_type": "code",
      "source": [
        "from sklearn.metrics import confusion_matrix, classification_report\n",
        "import csv\n",
        "\n",
        "def normalize_function(text):\n",
        "  try:\n",
        "    text = text.split(\".\")[0]\n",
        "    return text\n",
        "  except:\n",
        "    return text\n",
        "\n",
        "def normalizing_classification_report(path):\n",
        "  all_text = []\n",
        "# open .tsv file\n",
        "  with open(path) as file:\n",
        "\n",
        "      tsv_file = csv.reader(file, delimiter=\"\\t\")     \n",
        "      for line in tsv_file:\n",
        "          all_text.append(line)\n",
        "  #reformat the test file for normalizing process\n",
        "  no_nan_li = [i for i in all_text if len(i)!=0]\n",
        "  df = pd.DataFrame()\n",
        "  df['text'] = [i[0].strip() for i in no_nan_li]\n",
        "  truth = df[df.text.str.contains(\"- Gold:\")]\n",
        "  predcs = df[df.text.str.contains(\"- Pred:\")]\n",
        "  truth_no_normalize = [i.split(\":\")[-1] for i in truth.text.tolist()]\n",
        "  preds_no_normalize = [i.split(\":\")[-1] for i in predcs.text.tolist()]\n",
        "  normalize_truth = [normalize_function(text) for text in truth_no_normalize]\n",
        "  normalize_preds = [normalize_function(text) for text in preds_no_normalize]\n",
        "  class_name = list(set(normalize_truth))\n",
        "  print(classification_report(normalize_truth,normalize_preds,target_names=class_name))"
      ],
      "metadata": {
        "id": "k7nGwKwMOhpb"
      },
      "execution_count": 94,
      "outputs": []
    },
    {
      "cell_type": "code",
      "source": [
        "normalizing_classification_report(\"test.tsv\")"
      ],
      "metadata": {
        "colab": {
          "base_uri": "https://localhost:8080/"
        },
        "id": "j3ZTeQMJK-0y",
        "outputId": "aed2c262-6c95-4603-9294-d267190d9881"
      },
      "execution_count": 95,
      "outputs": [
        {
          "output_type": "stream",
          "name": "stderr",
          "text": [
            "/usr/local/lib/python3.7/dist-packages/sklearn/metrics/_classification.py:1318: UndefinedMetricWarning: Precision and F-score are ill-defined and being set to 0.0 in labels with no predicted samples. Use `zero_division` parameter to control this behavior.\n",
            "  _warn_prf(average, modifier, msg_start, len(result))\n"
          ]
        },
        {
          "output_type": "stream",
          "name": "stdout",
          "text": [
            "                 precision    recall  f1-score   support\n",
            "\n",
            "       diabetes       0.98      0.99      0.98     38375\n",
            "         smoker       0.70      0.60      0.65       446\n",
            "          Other       0.79      0.69      0.74       582\n",
            "          obese       0.00      0.00      0.00        13\n",
            "            cad       0.87      0.56      0.68       231\n",
            "    family_hist       0.87      0.90      0.88       664\n",
            "   hypertension       0.92      0.85      0.88      2062\n",
            " hyperlipidemia       0.82      0.92      0.87       116\n",
            "     medication       0.82      0.51      0.63       457\n",
            "\n",
            "       accuracy                           0.96     42946\n",
            "      macro avg       0.75      0.67      0.70     42946\n",
            "   weighted avg       0.96      0.96      0.96     42946\n",
            "\n"
          ]
        },
        {
          "output_type": "stream",
          "name": "stderr",
          "text": [
            "/usr/local/lib/python3.7/dist-packages/sklearn/metrics/_classification.py:1318: UndefinedMetricWarning: Precision and F-score are ill-defined and being set to 0.0 in labels with no predicted samples. Use `zero_division` parameter to control this behavior.\n",
            "  _warn_prf(average, modifier, msg_start, len(result))\n",
            "/usr/local/lib/python3.7/dist-packages/sklearn/metrics/_classification.py:1318: UndefinedMetricWarning: Precision and F-score are ill-defined and being set to 0.0 in labels with no predicted samples. Use `zero_division` parameter to control this behavior.\n",
            "  _warn_prf(average, modifier, msg_start, len(result))\n"
          ]
        }
      ]
    },
    {
      "cell_type": "code",
      "source": [
        ""
      ],
      "metadata": {
        "id": "e1hRRlTMPNPL"
      },
      "execution_count": null,
      "outputs": []
    }
  ]
}